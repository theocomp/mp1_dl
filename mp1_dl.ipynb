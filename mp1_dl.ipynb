{
 "cells": [
  {
   "cell_type": "code",
   "execution_count": null,
   "metadata": {
    "collapsed": true
   },
   "outputs": [],
   "source": [
    "import mp1\n",
    "import numpy as np\n",
    "import matplotlib as mlp\n",
    "mlp.use(\"TkAgg\")\n",
    "import matplotlib.pyplot as plt\n",
    "from keras.models import Sequential\n",
    "from keras.layers import Dense, Activation, Flatten, Dropout, Conv2D, MaxPooling2D\n",
    "from keras.optimizers import SGD\n",
    "from keras.utils import to_categorical\n",
    "import os\n",
    "os.environ['TF_CPP_MIN_LOG_LEVEL'] = '2'\n",
    "\n",
    "IMAGE_SIZE = 100"
   ]
  },
  {
   "cell_type": "markdown",
   "metadata": {},
   "source": [
    "# Loading the data"
   ]
  },
  {
   "cell_type": "code",
   "execution_count": null,
   "metadata": {},
   "outputs": [],
   "source": [
    "def generate_train_test(nb_sample, noise, bool):\n",
    "    [X_train, Y_train] = mp1.generate_dataset_classification(nb_sample, noise, bool)\n",
    "    [X_test, Y_test] = mp1.generate_dataset_classification(nb_sample, noise, bool)\n",
    "    return([X_train, Y_train], [X_test, Y_test])\n",
    "\n",
    "\n",
    "def generate_train_test_reg(nb_sample, noise):\n",
    "    [X_train, Y_train] = mp1.generate_dataset_regression(nb_sample, noise)\n",
    "    [X_test, Y_test] = mp1.generate_dataset_regression(nb_sample, noise)\n",
    "    return([X_train, Y_train], [X_test, Y_test])\n",
    "\n",
    "#[X_trainr, Y_trainr], [X_testr, Y_testr] = generate_train_test_reg(1000, 20)\n",
    "#[X_train, Y_train2], [X_test2, Y_test2] = generate_train_test(1000, 20, True)\n",
    "\n",
    "def save_data():\n",
    "    np.save('X_train', X_train)\n",
    "    np.save('X_test', X_test)\n",
    "    np.save('Y_train', Y_train)\n",
    "    np.save('Y_test', Y_test)\n",
    "    np.save('X_train2', X_train2)\n",
    "    np.save('X_test2', X_test2)\n",
    "    np.save('Y_train2', Y_train2)\n",
    "    np.save('Y_test2', Y_test2)\n",
    "    np.save('X_trainr', X_trainr)\n",
    "    np.save('X_testr', X_testr)\n",
    "    np.save('Y_trainr', Y_trainr)\n",
    "    np.save('Y_testr', Y_testr)\n",
    "    \n",
    "    \n",
    "\n",
    "def load_data():\n",
    "    X_train = np.load(\"/Users/theocomperot/PycharmProjects/mp1_dl/X_train.npy\")\n",
    "    X_test = np.load(\"/Users/theocomperot/PycharmProjects/mp1_dl/X_test.npy\")\n",
    "    Y_train = np.load(\"/Users/theocomperot/PycharmProjects/mp1_dl/Y_train.npy\")\n",
    "    Y_test = np.load(\"/Users/theocomperot/PycharmProjects/mp1_dl/Y_test.npy\")\n",
    "    X_train2 = np.load(\"/Users/theocomperot/PycharmProjects/mp1_dl/X_train2.npy\")\n",
    "    X_test2 = np.load(\"/Users/theocomperot/PycharmProjects/mp1_dl/X_test2.npy\")\n",
    "    Y_train2 = np.load(\"/Users/theocomperot/PycharmProjects/mp1_dl/Y_train2.npy\")\n",
    "    Y_test2 = np.load(\"/Users/theocomperot/PycharmProjects/mp1_dl/Y_test2.npy\")\n",
    "    X_trainr = np.load(\"/Users/theocomperot/PycharmProjects/mp1_dl/X_trainr.npy\")\n",
    "    X_testr = np.load(\"/Users/theocomperot/PycharmProjects/mp1_dl/X_testr.npy\")\n",
    "    Y_trainr = np.load(\"/Users/theocomperot/PycharmProjects/mp1_dl/Y_trainr.npy\")\n",
    "    Y_testr = np.load(\"/Users/theocomperot/PycharmProjects/mp1_dl/Y_testr.npy\")\n",
    "    return(X_train, X_test, Y_train, Y_test, X_train2, X_test2, Y_train2, Y_test2, X_trainr, X_testr, Y_trainr, Y_testr)\n",
    "\n",
    "\n",
    "X_train, X_test, Y_train, Y_test, X_train2, X_test2, Y_train2, Y_test2,X_trainr, X_testr, Y_trainr, Y_testr = load_data()\n",
    "\n"
   ]
  },
  {
   "cell_type": "markdown",
   "metadata": {},
   "source": [
    "# Question 3\n",
    "\n",
    "We obtain 100% accurcy"
   ]
  },
  {
   "cell_type": "code",
   "execution_count": null,
   "metadata": {},
   "outputs": [],
   "source": [
    "# Model\n",
    "\n",
    "model = Sequential()\n",
    "\n",
    "model.add(layer=Dense(units=20, input_shape=(10000, ), activation='relu'))\n",
    "model.add(Dropout(0.25))\n",
    "model.add(layer=Dense(units=20, input_shape=(20, ), activation='relu'))\n",
    "model.add(Dropout(0.25))\n",
    "model.add(layer=Dense(units=3, activation='softmax'))  # 3 categories\n",
    "\n",
    "# Opti\n",
    "\n",
    "sgd = SGD(lr=0.0001, decay=1e-6, momentum=0.9, nesterov=True)\n",
    "model.compile(loss='categorical_crossentropy', optimizer=sgd, metrics=['accuracy'])\n",
    "\n",
    "# Fit\n",
    "\n",
    "history = model.fit(X_train, Y_train, epochs=500, batch_size=64)\n",
    "\n",
    "plt.plot(history.history['loss'])\n",
    "\n",
    "# CHECK : cat1 = rect, cat2 = disque, cat3 = triangle#\n",
    "\n",
    "Y_pred = model.predict(X_test)\n",
    "Y_pred = np.argmax(Y_pred, axis=1)\n",
    "Y_test = np.argmax(Y_test, axis=1)\n",
    "bools =(Y_pred != Y_test)\n",
    "\n",
    "model.evaluate(X_test, Y_test)"
   ]
  },
  {
   "cell_type": "markdown",
   "metadata": {},
   "source": [
    "# Question 4 : visualization"
   ]
  },
  {
   "cell_type": "code",
   "execution_count": null,
   "metadata": {},
   "outputs": [],
   "source": [
    "weights = model.get_weights()\n",
    "matrix_weights = np.dot(weights[0], np.dot(weights[2],  weights[4]))\n",
    "\n",
    "im1 = matrix_weights[:, 0].reshape(100, 100)\n",
    "im2 = matrix_weights[:, 1].reshape(100, 100)\n",
    "im3 = matrix_weights[:, 2].reshape(100, 100)\n",
    "plt.imshow(im1)\n",
    "plt.show()"
   ]
  },
  {
   "cell_type": "markdown",
   "metadata": {},
   "source": [
    "# Question 5 : CNN\n",
    "\n",
    "We obtain 94% accuracy"
   ]
  },
  {
   "cell_type": "code",
   "execution_count": null,
   "metadata": {},
   "outputs": [],
   "source": [
    "# Train data\n",
    "\n",
    "X_train2 = X_train2.reshape((1000, 100, 100, 1))\n",
    "Y_train2 = to_categorical(Y_train2)\n",
    "\n",
    "# Model\n",
    "\n",
    "model = Sequential()\n",
    "\n",
    "model.add(layer=Conv2D(32, (3, 3), activation='relu', input_shape=(100, 100, 1)))\n",
    "model.add(MaxPooling2D(pool_size=(2, 2)))  # max pooling\n",
    "model.add(Dropout(0.25))\n",
    "model.add(layer=Conv2D(32, (3, 3), activation='relu', input_shape=(50, 50)))\n",
    "model.add(MaxPooling2D(pool_size=(2, 2)))  # max pooling\n",
    "model.add(Dropout(0.25))\n",
    "model.add(layer=Conv2D(32, (3, 3), activation='relu', input_shape=(25, 25)))\n",
    "model.add(MaxPooling2D(pool_size=(2, 2)))  # max pooling\n",
    "model.add(Dropout(0.25))\n",
    "model.add(Flatten())  # On flatten pour les couches denses d'après\n",
    "model.add(Dense(64, activation='relu'))  # Couche dense activation relu\n",
    "model.add(Dropout(0.25))\n",
    "model.add(Dense(64, activation='relu'))  # Couche dense activation relu\n",
    "model.add(Dropout(0.25))\n",
    "model.add(Dropout(0.25))\n",
    "model.add(Dense(3, activation='softmax'))   # Output layer, 3 catégories\n",
    "\n",
    "model.compile(loss='categorical_crossentropy', optimizer='adam', metrics=['accuracy'])\n",
    "model.fit(X_train2, Y_train2, batch_size=32, epochs=50, verbose=1)\n",
    "\n",
    "\n",
    "model.evaluate(X_test2, Y_test2)\n",
    "\n",
    "# We obtain 94% of precision"
   ]
  },
  {
   "cell_type": "markdown",
   "metadata": {},
   "source": [
    "# Q6 : Regression"
   ]
  },
  {
   "cell_type": "code",
   "execution_count": null,
   "metadata": {},
   "outputs": [],
   "source": [
    "\n",
    "X_trainr = X_trainr.reshape((1000, 100, 100, 1))\n",
    "\n",
    "# Model\n",
    "\n",
    "model = Sequential()\n",
    "\n",
    "model.add(layer=Conv2D(32, (3, 3), activation='relu', input_shape=(100, 100, 1)))\n",
    "model.add(MaxPooling2D(pool_size=(2, 2)))  # max pooling\n",
    "model.add(Dropout(0.25))\n",
    "model.add(layer=Conv2D(32, (3, 3), activation='relu', input_shape=(50, 50)))\n",
    "model.add(MaxPooling2D(pool_size=(2, 2)))  # max pooling\n",
    "model.add(Dropout(0.25))\n",
    "model.add(layer=Conv2D(32, (3, 3), activation='relu', input_shape=(25, 25)))\n",
    "model.add(MaxPooling2D(pool_size=(2, 2)))  # max pooling\n",
    "model.add(Dropout(0.25))\n",
    "model.add(Flatten())  # On flatten pour les couches denses d'après\n",
    "model.add(Dense(64, activation='relu'))  # Couche dense activation relu\n",
    "model.add(Dropout(0.25))\n",
    "model.add(Dense(64, activation='relu'))  # Couche dense activation relu\n",
    "model.add(Dropout(0.25))\n",
    "model.add(Dense(6))   # Output layer, 3 catégories\n",
    "\n",
    "sgd = SGD(lr=0.0001,decay=1e-6, momentum=0.9, nesterov=True)\n",
    "model.compile(loss='mean_squared_error', optimizer=sgd)\n",
    "\n",
    "model.fit(X_trainr, Y_trainr, batch_size=32, epochs=10)\n",
    "\n",
    "\n",
    "X_testr = X_testr.reshape((1000, 100, 100, 1))\n",
    "model.evaluate(X_testr, Y_testr)"
   ]
  }
 ],
 "metadata": {
  "kernelspec": {
   "display_name": "Python 2",
   "language": "python",
   "name": "python2"
  },
  "language_info": {
   "codemirror_mode": {
    "name": "ipython",
    "version": 2
   },
   "file_extension": ".py",
   "mimetype": "text/x-python",
   "name": "python",
   "nbconvert_exporter": "python",
   "pygments_lexer": "ipython2",
   "version": "2.7.6"
  }
 },
 "nbformat": 4,
 "nbformat_minor": 0
}
